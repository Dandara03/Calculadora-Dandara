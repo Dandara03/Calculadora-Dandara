{
  "nbformat": 4,
  "nbformat_minor": 0,
  "metadata": {
    "colab": {
      "provenance": []
    },
    "kernelspec": {
      "name": "python3",
      "display_name": "Python 3"
    },
    "language_info": {
      "name": "python"
    }
  },
  "cells": [
    {
      "cell_type": "code",
      "source": [
        "def calculadora():\n",
        "\n",
        "  while True:\n",
        "    valor1 = input('Insira o primeiro valor: ')\n",
        "    valor2 = input('Insira o segundo valor: ')\n",
        "    operacao = input('Qual operação deseja fazer (+, -, *, /): ')\n",
        "\n",
        "    valor1_convertido = int(valor1)\n",
        "    valor2_convertido = int(valor2)\n",
        "\n",
        "    if valor1_convertido is None or valor2_convertido is None:\n",
        "      print(\"Erro: um dos valores não é um número válido.\")\n",
        "    else:\n",
        "      if operacao == '+':\n",
        "        resultado = valor1_convertido + valor2_convertido\n",
        "        print(\"O valor da soma é:\" + str(resultado))\n",
        "      elif operacao == '-':\n",
        "        resultado = valor1_convertido - valor2_convertido\n",
        "        print(\"O valor da subtração é:\" + str(resultado))\n",
        "      elif operacao == '*':\n",
        "        resultado = valor1_convertido * valor2_convertido\n",
        "        print(\"O valor da multiplicação é:\" + str(resultado))\n",
        "      elif operacao == '/':\n",
        "        if valor2_convertido == 0:\n",
        "          print(\"Erro: divisão por zero.\")\n",
        "        else:\n",
        "         resultado = valor1_convertido / valor2_convertido\n",
        "         print(\"O valor da divisão é:\" + str(resultado))\n",
        "\n",
        "      resposta = input(\"Deseja fazer outro calculo? (s/n): \")\n",
        "      if resposta.lower() == 's':\n",
        "            calculadora()\n",
        "      else:\n",
        "        print(\"Obrigada, Até a próxima!\")\n",
        "        break;\n",
        "\n",
        "calculadora()\n",
        "\n",
        "\n"
      ],
      "metadata": {
        "id": "IgKTVnexlUm5",
        "colab": {
          "base_uri": "https://localhost:8080/"
        },
        "outputId": "e626d65f-049c-4ef8-bd59-e9e17af35a28"
      },
      "execution_count": null,
      "outputs": [
        {
          "output_type": "stream",
          "name": "stdout",
          "text": [
            "Insira o primeiro valor: 100\n",
            "Insira o segundo valor: 20\n",
            "Qual operação deseja fazer (+, -, *, /): /\n",
            "O valor da divisão é:5.0\n",
            "Deseja fazer outro calculo? (s/n): n\n",
            "Obrigada, Até a próxima!\n"
          ]
        }
      ]
    }
  ]
}